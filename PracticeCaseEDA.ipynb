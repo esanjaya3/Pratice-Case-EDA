{
  "nbformat": 4,
  "nbformat_minor": 0,
  "metadata": {
    "colab": {
      "name": "PracticeCaseEDA.ipynb",
      "provenance": [],
      "collapsed_sections": []
    },
    "kernelspec": {
      "name": "python3",
      "display_name": "Python 3"
    },
    "language_info": {
      "name": "python"
    }
  },
  "cells": [
    {
      "cell_type": "markdown",
      "metadata": {
        "id": "UmdOPYDoTv1U"
      },
      "source": [
        "# **Pratice Case - Explanatory Data Analysis**\n",
        "# by : Edwin Sanjaya\n"
      ]
    },
    {
      "cell_type": "markdown",
      "metadata": {
        "id": "KLGxY4T7V3Y0"
      },
      "source": [
        "## **Scenario**\n",
        "Looking back at the season that was 2018-2019 and looking to delve into sight deeper insights. Using the data to see how clubs are similar stylistically, in the way they pass, attack and score goals. \n",
        "\n",
        "This data set is wide ranging in the sense it encompasses stats seen on a regular league table but goes beyond looking at how teams pass and keep possession, how they defend, tackle as well as looking at market values of a team and how much money each team was allotted from the TV rights deal. \n",
        "This data was gathered from \n",
        "1) BBC Sports Football, \n",
        "2) Premierleague.com \n",
        "3) Transfermarkt.co.uk \n"
      ]
    },
    {
      "cell_type": "markdown",
      "metadata": {
        "id": "kILXUNB4T2oC"
      },
      "source": [
        "## **Data Dictionary**\n",
        "Team : football club\n",
        "\n",
        "category : the league club participates in\n",
        "\n",
        "general_league_position : team position regardless of league\n",
        "\n",
        "finance _live_games_televised : number of games aired on television\n",
        "\n",
        "finance _tv_revenue : number income earned from games aired on television\n",
        "\n",
        "general_matches_played : number of games played\n",
        "\n",
        "general_won : number of win games\n",
        "\n",
        "general_draw : number of draw games\n",
        "\n",
        "general_lost : number of lost games\n",
        "\n",
        "attack_scored : number of successful attacks scored a goal\n",
        "\n",
        "defence_goals_conceeded : number of goals conceded\n",
        "\n",
        "general_goal_difference : number of goal difference from opponent\n",
        "\n",
        "general_points : number of goal points\n",
        "\n",
        "general_squad_size : number of players on the team\n",
        "\n",
        "general_squad_average_age : average number of player's age on the team\n",
        "\n",
        "general_squad_foreigners : number of foreign players on the team\n",
        "\n",
        "finance _team_market : number of team market price\n",
        "\n",
        "finance _market_average : average number of market price\n",
        "\n",
        "attack_passes : number of passes in an attacking state\n",
        "\n",
        "attack_passes_through : number of passes in an attacking state\n",
        "\n",
        "attack_passes_long : number of long passes in an attacking state\n",
        "\n",
        "attack_passes_back : number of back passes in an attacking state\n",
        "\n",
        "attack_crosses  : number of cross passes in an attacking state\n",
        "\n",
        "attack_corners_taken : number of corner kick in an attacking state\n",
        "\n",
        "attack_shots : number of shots in an attacking state\n",
        "\n",
        "attack_shots_on_target : number of shots towards goal in an attacking state\n",
        "\n",
        "attack_goals_headed : number of goals using header in an attacking state\n",
        "\n",
        "attack_goals_penalty : number of penalty goals in an attacking state\n",
        "\n",
        "attack_goals_box : number of goals from penalty box in an attacking state\n",
        "\n",
        "attack_goals_outsidebox : number of goals from outside penalty box in an attacking state\n",
        "\n",
        "general_card_yellow : number of yellow card received\n",
        "\n",
        "general_card_red : number of red card received\n",
        "\n",
        "attack_goals_counter : number of goals made by counterattack\n",
        "\n",
        "attack_goals_freekick : number of goals made by freekick in an attacking state\n",
        "\n",
        "defence_saves : number of saves in an defensive state\n",
        "\n",
        "defence_blocks : number of block in an defensive state\n",
        "\n",
        "defence_interceptions : number of interception in an defensive state\n",
        "\n",
        "defence_tackles : number of tackles in an defensive state\n",
        "\n",
        "defence_tackles_last_man : number of last man tackles in an defensive state\n",
        "\n",
        "defence_clearances : number of clearance in an defensive state\n",
        "\n",
        "defence_clearances_headed : number of clearence by header in an defensive state\n",
        "\n",
        "defence_penalty_conceeded : number of thwart opponent penalty in an defensive state\n",
        "\n",
        "attack_posession :  ball possesion in an attacking state\n",
        "\n",
        "attack_pass_accuracy : accuracy of passes in an attacking state\n"
      ]
    },
    {
      "cell_type": "markdown",
      "metadata": {
        "id": "VpREmgLoCuEU"
      },
      "source": [
        "## **Glossary**\n",
        "\n",
        "Clearances : a player kicks the ball away from the goal they are defending.\n",
        "\n",
        "Block : used by the goal keeper to knock the ball away with his hands\n",
        "\n",
        "Interception : a move in football that happens when a player on the defensive team catches a ball from the quarterback instead of the intended receiver."
      ]
    },
    {
      "cell_type": "markdown",
      "metadata": {
        "id": "lAMVS3i4UPrO"
      },
      "source": [
        "## **Question and Answer**"
      ]
    },
    {
      "cell_type": "markdown",
      "metadata": {
        "id": "JDKeL4TokMup"
      },
      "source": [
        "### 1. Is this data clean?"
      ]
    },
    {
      "cell_type": "code",
      "metadata": {
        "id": "Nc52kLXJUqZP"
      },
      "source": [
        "# import package\n",
        "import pandas as pd"
      ],
      "execution_count": 1,
      "outputs": []
    },
    {
      "cell_type": "code",
      "metadata": {
        "colab": {
          "base_uri": "https://localhost:8080/"
        },
        "id": "wbaa73S9Uy6U",
        "outputId": "7b71e2a1-791a-4fd4-9f4b-68f094b8cecc"
      },
      "source": [
        "# load and examine dataset info including null values\n",
        "df = pd.read_csv('/content/drive/MyDrive/Fellowship-main/epl_1819.csv')\n",
        "df.info()"
      ],
      "execution_count": 2,
      "outputs": [
        {
          "output_type": "stream",
          "text": [
            "<class 'pandas.core.frame.DataFrame'>\n",
            "RangeIndex: 20 entries, 0 to 19\n",
            "Data columns (total 44 columns):\n",
            " #   Column                         Non-Null Count  Dtype  \n",
            "---  ------                         --------------  -----  \n",
            " 0   Team                           20 non-null     object \n",
            " 1   category                       20 non-null     object \n",
            " 2   general_league_position        20 non-null     int64  \n",
            " 3   finance _live_games_televised  20 non-null     int64  \n",
            " 4   finance _tv_revenue            20 non-null     int64  \n",
            " 5   general_matches_played         20 non-null     int64  \n",
            " 6   general_won                    20 non-null     int64  \n",
            " 7   general_draw                   20 non-null     int64  \n",
            " 8   general_lost                   20 non-null     int64  \n",
            " 9   attack_scored                  20 non-null     int64  \n",
            " 10  defence_goals_conceeded        20 non-null     int64  \n",
            " 11  general_goal_difference        20 non-null     int64  \n",
            " 12  general_points                 20 non-null     int64  \n",
            " 13  general_squad_size             20 non-null     int64  \n",
            " 14  general_squad_average_age      20 non-null     float64\n",
            " 15  general_squad_foreigners       20 non-null     int64  \n",
            " 16  finance _team_market           20 non-null     int64  \n",
            " 17  finance _market_average        20 non-null     int64  \n",
            " 18  attack_passes                  20 non-null     object \n",
            " 19  attack_passes_through          20 non-null     int64  \n",
            " 20  attack_passes_long             20 non-null     object \n",
            " 21  attack_passes_back             20 non-null     object \n",
            " 22  attack_crosses                 20 non-null     int64  \n",
            " 23  attack_corners_taken           20 non-null     int64  \n",
            " 24  attack_shots                   20 non-null     int64  \n",
            " 25  attack_shots_on_target         20 non-null     int64  \n",
            " 26  attack_goals_headed            20 non-null     int64  \n",
            " 27  attack_goals_penalty           20 non-null     int64  \n",
            " 28  attack_goals_box               20 non-null     int64  \n",
            " 29  attack_goals_outsidebox        20 non-null     int64  \n",
            " 30  general_card_yellow            20 non-null     int64  \n",
            " 31  general_card_red               20 non-null     int64  \n",
            " 32  attack_goals_counter           20 non-null     int64  \n",
            " 33  attack_goals_freekick          20 non-null     int64  \n",
            " 34  defence_saves                  20 non-null     int64  \n",
            " 35  defence_blocks                 20 non-null     int64  \n",
            " 36  defence_interceptions          20 non-null     int64  \n",
            " 37  defence_tackles                20 non-null     int64  \n",
            " 38  defence_tackles_last_man       20 non-null     int64  \n",
            " 39  defence_clearances             20 non-null     object \n",
            " 40  defence_clearances_headed      20 non-null     int64  \n",
            " 41  defence_penalty_conceeded      20 non-null     int64  \n",
            " 42  attack_posession               20 non-null     float64\n",
            " 43  attack_pass_accuracy           20 non-null     float64\n",
            "dtypes: float64(3), int64(35), object(6)\n",
            "memory usage: 7.0+ KB\n"
          ],
          "name": "stdout"
        }
      ]
    },
    {
      "cell_type": "code",
      "metadata": {
        "id": "akhARBKOh6wd"
      },
      "source": [
        "# rename the column that is not written correctly\n",
        "df = df.rename(columns={'finance _live_games_televised': 'finance_live_games_televised',\n",
        "                        'finance _tv_revenue' : 'finance_tv_revenue',\n",
        "                        'finance _team_market' : 'finance_team_market',\n",
        "                        'finance _market_average' : 'finance_market_average'})"
      ],
      "execution_count": 3,
      "outputs": []
    },
    {
      "cell_type": "code",
      "metadata": {
        "id": "vXuoMwv8FMnh"
      },
      "source": [
        "# convert some attribute that have wrong dtype in dataframe\n",
        "df['defence_clearances'] = df.defence_clearances.str.split(',').str.join('').astype(int)\n",
        "df['attack_passes_back'] = df.attack_passes_back.str.split(',').str.join('').astype(int)\n",
        "df['attack_passes_long'] = df.attack_passes_long.str.split(',').str.join('').astype(int)\n",
        "df['attack_passes'] = df.attack_passes.str.split(',').str.join('').astype(int)"
      ],
      "execution_count": 4,
      "outputs": []
    },
    {
      "cell_type": "code",
      "metadata": {
        "colab": {
          "base_uri": "https://localhost:8080/"
        },
        "id": "HX7-qhA5i2YO",
        "outputId": "d0834825-a079-4963-e947-c1bdbc473e7a"
      },
      "source": [
        "# check for duplicate\n",
        "df.duplicated()"
      ],
      "execution_count": 5,
      "outputs": [
        {
          "output_type": "execute_result",
          "data": {
            "text/plain": [
              "0     False\n",
              "1     False\n",
              "2     False\n",
              "3     False\n",
              "4     False\n",
              "5     False\n",
              "6     False\n",
              "7     False\n",
              "8     False\n",
              "9     False\n",
              "10    False\n",
              "11    False\n",
              "12    False\n",
              "13    False\n",
              "14    False\n",
              "15    False\n",
              "16    False\n",
              "17    False\n",
              "18    False\n",
              "19    False\n",
              "dtype: bool"
            ]
          },
          "metadata": {
            "tags": []
          },
          "execution_count": 5
        }
      ]
    },
    {
      "cell_type": "markdown",
      "metadata": {
        "id": "EdVYB9n_jzJS"
      },
      "source": [
        "### 2. How is the point distribution of the epl team? and which team is an anomaly?"
      ]
    },
    {
      "cell_type": "code",
      "metadata": {
        "id": "fC7MJSHUjPZo"
      },
      "source": [
        "# import visualization package\n",
        "import seaborn as sns\n",
        "import matplotlib.pyplot as plt"
      ],
      "execution_count": 6,
      "outputs": []
    },
    {
      "cell_type": "code",
      "metadata": {
        "colab": {
          "base_uri": "https://localhost:8080/",
          "height": 302
        },
        "id": "LJ9cxPjWmqSh",
        "outputId": "106856ee-203b-4d1e-bbc1-2b29734443ec"
      },
      "source": [
        "# density plot visualization of general_points attribute\n",
        "sns.set(style=\"darkgrid\", palette=\"muted\", color_codes=True)\n",
        "sns.kdeplot(df.general_points)"
      ],
      "execution_count": 7,
      "outputs": [
        {
          "output_type": "execute_result",
          "data": {
            "text/plain": [
              "<matplotlib.axes._subplots.AxesSubplot at 0x7f42875f1410>"
            ]
          },
          "metadata": {
            "tags": []
          },
          "execution_count": 7
        },
        {
          "output_type": "display_data",
          "data": {
            "image/png": "[encoded data removed]",
            "text/plain": [
              "<Figure size 432x288 with 1 Axes>"
            ]
          },
          "metadata": {
            "tags": []
          }
        }
      ]
    },
    {
      "cell_type": "code",
      "metadata": {
        "colab": {
          "base_uri": "https://localhost:8080/",
          "height": 357
        },
        "id": "vWaCL5jXlUpX",
        "outputId": "dfd76be8-1c5b-4871-cb8f-89a5c9d8c2c1"
      },
      "source": [
        "# boxplot visualization of general_points attribute\n",
        "sns.boxplot(df.general_points)"
      ],
      "execution_count": 8,
      "outputs": [
        {
          "output_type": "stream",
          "text": [
            "/usr/local/lib/python3.7/dist-packages/seaborn/_decorators.py:43: FutureWarning: Pass the following variable as a keyword arg: x. From version 0.12, the only valid positional argument will be `data`, and passing other arguments without an explicit keyword will result in an error or misinterpretation.\n",
            "  FutureWarning\n"
          ],
          "name": "stderr"
        },
        {
          "output_type": "execute_result",
          "data": {
            "text/plain": [
              "<matplotlib.axes._subplots.AxesSubplot at 0x7f4284abde10>"
            ]
          },
          "metadata": {
            "tags": []
          },
          "execution_count": 8
        },
        {
          "output_type": "display_data",
          "data": {
            "image/png": "[encoded data removed]",
            "text/plain": [
              "<Figure size 432x288 with 1 Axes>"
            ]
          },
          "metadata": {
            "tags": []
          }
        }
      ]
    },
    {
      "cell_type": "markdown",
      "metadata": {
        "id": "4w00kinFsFdO"
      },
      "source": [
        "### 3.\tWhich team has the best attack? "
      ]
    },
    {
      "cell_type": "code",
      "metadata": {
        "colab": {
          "base_uri": "https://localhost:8080/",
          "height": 202
        },
        "id": "6fjTZtsNoP2p",
        "outputId": "0772331d-b6f7-4151-da20-967faf56e57d"
      },
      "source": [
        "# top 5 team based on scoring percentage(attempted shots that resulted in a goal )\n",
        "df['scoring_percentage'] = df['attack_scored']/df['attack_shots']*100\n",
        "df[['Team', 'scoring_percentage']].sort_values(by=['scoring_percentage'], ascending=False).head()"
      ],
      "execution_count": 9,
      "outputs": [
        {
          "output_type": "execute_result",
          "data": {
            "text/html": [
              "<div>\n",
              "<style scoped>\n",
              "    .dataframe tbody tr th:only-of-type {\n",
              "        vertical-align: middle;\n",
              "    }\n",
              "\n",
              "    .dataframe tbody tr th {\n",
              "        vertical-align: top;\n",
              "    }\n",
              "\n",
              "    .dataframe thead th {\n",
              "        text-align: right;\n",
              "    }\n",
              "</style>\n",
              "<table border=\"1\" class=\"dataframe\">\n",
              "  <thead>\n",
              "    <tr style=\"text-align: right;\">\n",
              "      <th></th>\n",
              "      <th>Team</th>\n",
              "      <th>scoring_percentage</th>\n",
              "    </tr>\n",
              "  </thead>\n",
              "  <tbody>\n",
              "    <tr>\n",
              "      <th>4</th>\n",
              "      <td>Arsenal</td>\n",
              "      <td>15.631692</td>\n",
              "    </tr>\n",
              "    <tr>\n",
              "      <th>1</th>\n",
              "      <td>Liverpool</td>\n",
              "      <td>15.478261</td>\n",
              "    </tr>\n",
              "    <tr>\n",
              "      <th>0</th>\n",
              "      <td>Manchester City</td>\n",
              "      <td>13.909224</td>\n",
              "    </tr>\n",
              "    <tr>\n",
              "      <th>13</th>\n",
              "      <td>Bournemouth</td>\n",
              "      <td>12.556054</td>\n",
              "    </tr>\n",
              "    <tr>\n",
              "      <th>14</th>\n",
              "      <td>Burnley</td>\n",
              "      <td>12.500000</td>\n",
              "    </tr>\n",
              "  </tbody>\n",
              "</table>\n",
              "</div>"
            ],
            "text/plain": [
              "               Team  scoring_percentage\n",
              "4           Arsenal           15.631692\n",
              "1         Liverpool           15.478261\n",
              "0   Manchester City           13.909224\n",
              "13      Bournemouth           12.556054\n",
              "14          Burnley           12.500000"
            ]
          },
          "metadata": {
            "tags": []
          },
          "execution_count": 9
        }
      ]
    },
    {
      "cell_type": "code",
      "metadata": {
        "colab": {
          "base_uri": "https://localhost:8080/",
          "height": 202
        },
        "id": "R5XVTNsH0GJ7",
        "outputId": "e1a28567-8363-41b7-ea65-ee7a1072cdb0"
      },
      "source": [
        "# top 5 team based on shots target percentage(attempted shots that nicely aimed)\n",
        "df['shots_target_percentage'] = df['attack_shots_on_target']/df['attack_shots']*100\n",
        "df[['Team', 'shots_target_percentage']].sort_values(by=['shots_target_percentage'], ascending=False).head()"
      ],
      "execution_count": 10,
      "outputs": [
        {
          "output_type": "execute_result",
          "data": {
            "text/html": [
              "<div>\n",
              "<style scoped>\n",
              "    .dataframe tbody tr th:only-of-type {\n",
              "        vertical-align: middle;\n",
              "    }\n",
              "\n",
              "    .dataframe tbody tr th {\n",
              "        vertical-align: top;\n",
              "    }\n",
              "\n",
              "    .dataframe thead th {\n",
              "        text-align: right;\n",
              "    }\n",
              "</style>\n",
              "<table border=\"1\" class=\"dataframe\">\n",
              "  <thead>\n",
              "    <tr style=\"text-align: right;\">\n",
              "      <th></th>\n",
              "      <th>Team</th>\n",
              "      <th>shots_target_percentage</th>\n",
              "    </tr>\n",
              "  </thead>\n",
              "  <tbody>\n",
              "    <tr>\n",
              "      <th>5</th>\n",
              "      <td>Manchester United</td>\n",
              "      <td>42.775665</td>\n",
              "    </tr>\n",
              "    <tr>\n",
              "      <th>1</th>\n",
              "      <td>Liverpool</td>\n",
              "      <td>39.304348</td>\n",
              "    </tr>\n",
              "    <tr>\n",
              "      <th>0</th>\n",
              "      <td>Manchester City</td>\n",
              "      <td>38.067350</td>\n",
              "    </tr>\n",
              "    <tr>\n",
              "      <th>13</th>\n",
              "      <td>Bournemouth</td>\n",
              "      <td>36.547085</td>\n",
              "    </tr>\n",
              "    <tr>\n",
              "      <th>4</th>\n",
              "      <td>Arsenal</td>\n",
              "      <td>36.402570</td>\n",
              "    </tr>\n",
              "  </tbody>\n",
              "</table>\n",
              "</div>"
            ],
            "text/plain": [
              "                 Team  shots_target_percentage\n",
              "5   Manchester United                42.775665\n",
              "1           Liverpool                39.304348\n",
              "0     Manchester City                38.067350\n",
              "13        Bournemouth                36.547085\n",
              "4             Arsenal                36.402570"
            ]
          },
          "metadata": {
            "tags": []
          },
          "execution_count": 10
        }
      ]
    },
    {
      "cell_type": "code",
      "metadata": {
        "colab": {
          "base_uri": "https://localhost:8080/",
          "height": 202
        },
        "id": "r_dGDp-D377O",
        "outputId": "6e9bbe2f-4cbe-46cf-8d92-28f26c760082"
      },
      "source": [
        "# top 5 team based on games won percentage\n",
        "df['games_won_percentage'] = df['general_won']/df['general_matches_played']*100\n",
        "df[['Team', 'games_won_percentage']].sort_values(by=['games_won_percentage'], ascending=False).head()"
      ],
      "execution_count": 11,
      "outputs": [
        {
          "output_type": "execute_result",
          "data": {
            "text/html": [
              "<div>\n",
              "<style scoped>\n",
              "    .dataframe tbody tr th:only-of-type {\n",
              "        vertical-align: middle;\n",
              "    }\n",
              "\n",
              "    .dataframe tbody tr th {\n",
              "        vertical-align: top;\n",
              "    }\n",
              "\n",
              "    .dataframe thead th {\n",
              "        text-align: right;\n",
              "    }\n",
              "</style>\n",
              "<table border=\"1\" class=\"dataframe\">\n",
              "  <thead>\n",
              "    <tr style=\"text-align: right;\">\n",
              "      <th></th>\n",
              "      <th>Team</th>\n",
              "      <th>games_won_percentage</th>\n",
              "    </tr>\n",
              "  </thead>\n",
              "  <tbody>\n",
              "    <tr>\n",
              "      <th>0</th>\n",
              "      <td>Manchester City</td>\n",
              "      <td>84.210526</td>\n",
              "    </tr>\n",
              "    <tr>\n",
              "      <th>1</th>\n",
              "      <td>Liverpool</td>\n",
              "      <td>78.947368</td>\n",
              "    </tr>\n",
              "    <tr>\n",
              "      <th>3</th>\n",
              "      <td>Tottenham</td>\n",
              "      <td>60.526316</td>\n",
              "    </tr>\n",
              "    <tr>\n",
              "      <th>2</th>\n",
              "      <td>Chelsea</td>\n",
              "      <td>55.263158</td>\n",
              "    </tr>\n",
              "    <tr>\n",
              "      <th>4</th>\n",
              "      <td>Arsenal</td>\n",
              "      <td>55.263158</td>\n",
              "    </tr>\n",
              "  </tbody>\n",
              "</table>\n",
              "</div>"
            ],
            "text/plain": [
              "              Team  games_won_percentage\n",
              "0  Manchester City             84.210526\n",
              "1        Liverpool             78.947368\n",
              "3        Tottenham             60.526316\n",
              "2          Chelsea             55.263158\n",
              "4          Arsenal             55.263158"
            ]
          },
          "metadata": {
            "tags": []
          },
          "execution_count": 11
        }
      ]
    },
    {
      "cell_type": "code",
      "metadata": {
        "colab": {
          "base_uri": "https://localhost:8080/",
          "height": 202
        },
        "id": "aHlB8Qad13Nv",
        "outputId": "45d681e6-37ce-494e-db0f-34b4562d2057"
      },
      "source": [
        "# top 5 team based on ball posession while attacking\n",
        "df[['Team', 'attack_posession']].sort_values(by=['attack_posession'], ascending=False).head()"
      ],
      "execution_count": 12,
      "outputs": [
        {
          "output_type": "execute_result",
          "data": {
            "text/html": [
              "<div>\n",
              "<style scoped>\n",
              "    .dataframe tbody tr th:only-of-type {\n",
              "        vertical-align: middle;\n",
              "    }\n",
              "\n",
              "    .dataframe tbody tr th {\n",
              "        vertical-align: top;\n",
              "    }\n",
              "\n",
              "    .dataframe thead th {\n",
              "        text-align: right;\n",
              "    }\n",
              "</style>\n",
              "<table border=\"1\" class=\"dataframe\">\n",
              "  <thead>\n",
              "    <tr style=\"text-align: right;\">\n",
              "      <th></th>\n",
              "      <th>Team</th>\n",
              "      <th>attack_posession</th>\n",
              "    </tr>\n",
              "  </thead>\n",
              "  <tbody>\n",
              "    <tr>\n",
              "      <th>0</th>\n",
              "      <td>Manchester City</td>\n",
              "      <td>64.0</td>\n",
              "    </tr>\n",
              "    <tr>\n",
              "      <th>2</th>\n",
              "      <td>Chelsea</td>\n",
              "      <td>59.9</td>\n",
              "    </tr>\n",
              "    <tr>\n",
              "      <th>1</th>\n",
              "      <td>Liverpool</td>\n",
              "      <td>58.8</td>\n",
              "    </tr>\n",
              "    <tr>\n",
              "      <th>3</th>\n",
              "      <td>Tottenham</td>\n",
              "      <td>56.7</td>\n",
              "    </tr>\n",
              "    <tr>\n",
              "      <th>4</th>\n",
              "      <td>Arsenal</td>\n",
              "      <td>56.1</td>\n",
              "    </tr>\n",
              "  </tbody>\n",
              "</table>\n",
              "</div>"
            ],
            "text/plain": [
              "              Team  attack_posession\n",
              "0  Manchester City              64.0\n",
              "2          Chelsea              59.9\n",
              "1        Liverpool              58.8\n",
              "3        Tottenham              56.7\n",
              "4          Arsenal              56.1"
            ]
          },
          "metadata": {
            "tags": []
          },
          "execution_count": 12
        }
      ]
    },
    {
      "cell_type": "code",
      "metadata": {
        "colab": {
          "base_uri": "https://localhost:8080/",
          "height": 202
        },
        "id": "_XAp1hVi2N87",
        "outputId": "04de5cb5-116f-41b4-991d-5fc283e02e94"
      },
      "source": [
        "# top 5 team based on \n",
        "df[['Team', 'attack_pass_accuracy']].sort_values(by=['attack_pass_accuracy'], ascending=False).head()"
      ],
      "execution_count": 13,
      "outputs": [
        {
          "output_type": "execute_result",
          "data": {
            "text/html": [
              "<div>\n",
              "<style scoped>\n",
              "    .dataframe tbody tr th:only-of-type {\n",
              "        vertical-align: middle;\n",
              "    }\n",
              "\n",
              "    .dataframe tbody tr th {\n",
              "        vertical-align: top;\n",
              "    }\n",
              "\n",
              "    .dataframe thead th {\n",
              "        text-align: right;\n",
              "    }\n",
              "</style>\n",
              "<table border=\"1\" class=\"dataframe\">\n",
              "  <thead>\n",
              "    <tr style=\"text-align: right;\">\n",
              "      <th></th>\n",
              "      <th>Team</th>\n",
              "      <th>attack_pass_accuracy</th>\n",
              "    </tr>\n",
              "  </thead>\n",
              "  <tbody>\n",
              "    <tr>\n",
              "      <th>0</th>\n",
              "      <td>Manchester City</td>\n",
              "      <td>89.0</td>\n",
              "    </tr>\n",
              "    <tr>\n",
              "      <th>2</th>\n",
              "      <td>Chelsea</td>\n",
              "      <td>87.6</td>\n",
              "    </tr>\n",
              "    <tr>\n",
              "      <th>1</th>\n",
              "      <td>Liverpool</td>\n",
              "      <td>84.4</td>\n",
              "    </tr>\n",
              "    <tr>\n",
              "      <th>4</th>\n",
              "      <td>Arsenal</td>\n",
              "      <td>83.3</td>\n",
              "    </tr>\n",
              "    <tr>\n",
              "      <th>3</th>\n",
              "      <td>Tottenham</td>\n",
              "      <td>83.2</td>\n",
              "    </tr>\n",
              "  </tbody>\n",
              "</table>\n",
              "</div>"
            ],
            "text/plain": [
              "              Team  attack_pass_accuracy\n",
              "0  Manchester City                  89.0\n",
              "2          Chelsea                  87.6\n",
              "1        Liverpool                  84.4\n",
              "4          Arsenal                  83.3\n",
              "3        Tottenham                  83.2"
            ]
          },
          "metadata": {
            "tags": []
          },
          "execution_count": 13
        }
      ]
    },
    {
      "cell_type": "markdown",
      "metadata": {
        "id": "iyELbDBF61Sc"
      },
      "source": [
        "### 4. Which team has the best defence? "
      ]
    },
    {
      "cell_type": "code",
      "metadata": {
        "colab": {
          "base_uri": "https://localhost:8080/",
          "height": 202
        },
        "id": "4j8kYdj8604f",
        "outputId": "d5f67f81-3170-49ab-8995-7c07cde221c9"
      },
      "source": [
        "# top 5 team based on goals conceeded\n",
        "df[['Team', 'defence_goals_conceeded']].sort_values(by=['defence_goals_conceeded'], ascending=False).head()"
      ],
      "execution_count": 14,
      "outputs": [
        {
          "output_type": "execute_result",
          "data": {
            "text/html": [
              "<div>\n",
              "<style scoped>\n",
              "    .dataframe tbody tr th:only-of-type {\n",
              "        vertical-align: middle;\n",
              "    }\n",
              "\n",
              "    .dataframe tbody tr th {\n",
              "        vertical-align: top;\n",
              "    }\n",
              "\n",
              "    .dataframe thead th {\n",
              "        text-align: right;\n",
              "    }\n",
              "</style>\n",
              "<table border=\"1\" class=\"dataframe\">\n",
              "  <thead>\n",
              "    <tr style=\"text-align: right;\">\n",
              "      <th></th>\n",
              "      <th>Team</th>\n",
              "      <th>defence_goals_conceeded</th>\n",
              "    </tr>\n",
              "  </thead>\n",
              "  <tbody>\n",
              "    <tr>\n",
              "      <th>18</th>\n",
              "      <td>Fulham</td>\n",
              "      <td>81</td>\n",
              "    </tr>\n",
              "    <tr>\n",
              "      <th>19</th>\n",
              "      <td>Huddersfield</td>\n",
              "      <td>76</td>\n",
              "    </tr>\n",
              "    <tr>\n",
              "      <th>13</th>\n",
              "      <td>Bournemouth</td>\n",
              "      <td>70</td>\n",
              "    </tr>\n",
              "    <tr>\n",
              "      <th>17</th>\n",
              "      <td>Cardiff</td>\n",
              "      <td>69</td>\n",
              "    </tr>\n",
              "    <tr>\n",
              "      <th>14</th>\n",
              "      <td>Burnley</td>\n",
              "      <td>68</td>\n",
              "    </tr>\n",
              "  </tbody>\n",
              "</table>\n",
              "</div>"
            ],
            "text/plain": [
              "            Team  defence_goals_conceeded\n",
              "18        Fulham                       81\n",
              "19  Huddersfield                       76\n",
              "13   Bournemouth                       70\n",
              "17       Cardiff                       69\n",
              "14       Burnley                       68"
            ]
          },
          "metadata": {
            "tags": []
          },
          "execution_count": 14
        }
      ]
    },
    {
      "cell_type": "code",
      "metadata": {
        "colab": {
          "base_uri": "https://localhost:8080/",
          "height": 202
        },
        "id": "9Je2CQ0DAhj9",
        "outputId": "7c771c9c-92cb-43d0-e156-09ed69171e61"
      },
      "source": [
        "# top 5 team based on interceptions\n",
        "df[['Team', 'defence_interceptions']].sort_values(by=['defence_interceptions'], ascending=False).head()"
      ],
      "execution_count": 15,
      "outputs": [
        {
          "output_type": "execute_result",
          "data": {
            "text/html": [
              "<div>\n",
              "<style scoped>\n",
              "    .dataframe tbody tr th:only-of-type {\n",
              "        vertical-align: middle;\n",
              "    }\n",
              "\n",
              "    .dataframe tbody tr th {\n",
              "        vertical-align: top;\n",
              "    }\n",
              "\n",
              "    .dataframe thead th {\n",
              "        text-align: right;\n",
              "    }\n",
              "</style>\n",
              "<table border=\"1\" class=\"dataframe\">\n",
              "  <thead>\n",
              "    <tr style=\"text-align: right;\">\n",
              "      <th></th>\n",
              "      <th>Team</th>\n",
              "      <th>defence_interceptions</th>\n",
              "    </tr>\n",
              "  </thead>\n",
              "  <tbody>\n",
              "    <tr>\n",
              "      <th>15</th>\n",
              "      <td>Southampton</td>\n",
              "      <td>548</td>\n",
              "    </tr>\n",
              "    <tr>\n",
              "      <th>19</th>\n",
              "      <td>Huddersfield</td>\n",
              "      <td>530</td>\n",
              "    </tr>\n",
              "    <tr>\n",
              "      <th>17</th>\n",
              "      <td>Cardiff</td>\n",
              "      <td>528</td>\n",
              "    </tr>\n",
              "    <tr>\n",
              "      <th>12</th>\n",
              "      <td>Newcastle</td>\n",
              "      <td>506</td>\n",
              "    </tr>\n",
              "    <tr>\n",
              "      <th>6</th>\n",
              "      <td>Wolverhampton</td>\n",
              "      <td>501</td>\n",
              "    </tr>\n",
              "  </tbody>\n",
              "</table>\n",
              "</div>"
            ],
            "text/plain": [
              "             Team  defence_interceptions\n",
              "15    Southampton                    548\n",
              "19   Huddersfield                    530\n",
              "17        Cardiff                    528\n",
              "12      Newcastle                    506\n",
              "6   Wolverhampton                    501"
            ]
          },
          "metadata": {
            "tags": []
          },
          "execution_count": 15
        }
      ]
    },
    {
      "cell_type": "code",
      "metadata": {
        "colab": {
          "base_uri": "https://localhost:8080/",
          "height": 202
        },
        "id": "G6bbkcQrArfF",
        "outputId": "5d84817a-3636-40d9-f200-33b3c724abf8"
      },
      "source": [
        "# top 5 team based on clearances\n",
        "df[['Team', 'defence_clearances']].sort_values(by=['defence_clearances'], ascending=False).head()"
      ],
      "execution_count": 16,
      "outputs": [
        {
          "output_type": "execute_result",
          "data": {
            "text/html": [
              "<div>\n",
              "<style scoped>\n",
              "    .dataframe tbody tr th:only-of-type {\n",
              "        vertical-align: middle;\n",
              "    }\n",
              "\n",
              "    .dataframe tbody tr th {\n",
              "        vertical-align: top;\n",
              "    }\n",
              "\n",
              "    .dataframe thead th {\n",
              "        text-align: right;\n",
              "    }\n",
              "</style>\n",
              "<table border=\"1\" class=\"dataframe\">\n",
              "  <thead>\n",
              "    <tr style=\"text-align: right;\">\n",
              "      <th></th>\n",
              "      <th>Team</th>\n",
              "      <th>defence_clearances</th>\n",
              "    </tr>\n",
              "  </thead>\n",
              "  <tbody>\n",
              "    <tr>\n",
              "      <th>12</th>\n",
              "      <td>Newcastle</td>\n",
              "      <td>1120</td>\n",
              "    </tr>\n",
              "    <tr>\n",
              "      <th>14</th>\n",
              "      <td>Burnley</td>\n",
              "      <td>1080</td>\n",
              "    </tr>\n",
              "    <tr>\n",
              "      <th>15</th>\n",
              "      <td>Southampton</td>\n",
              "      <td>1068</td>\n",
              "    </tr>\n",
              "    <tr>\n",
              "      <th>13</th>\n",
              "      <td>Bournemouth</td>\n",
              "      <td>1019</td>\n",
              "    </tr>\n",
              "    <tr>\n",
              "      <th>17</th>\n",
              "      <td>Cardiff</td>\n",
              "      <td>978</td>\n",
              "    </tr>\n",
              "  </tbody>\n",
              "</table>\n",
              "</div>"
            ],
            "text/plain": [
              "            Team  defence_clearances\n",
              "12     Newcastle                1120\n",
              "14       Burnley                1080\n",
              "15   Southampton                1068\n",
              "13   Bournemouth                1019\n",
              "17       Cardiff                 978"
            ]
          },
          "metadata": {
            "tags": []
          },
          "execution_count": 16
        }
      ]
    },
    {
      "cell_type": "code",
      "metadata": {
        "colab": {
          "base_uri": "https://localhost:8080/",
          "height": 202
        },
        "id": "l0ghKhzyIFKF",
        "outputId": "715f336e-1fcf-40f9-b875-ec2f90f8ad75"
      },
      "source": [
        "# top 5 team based on draw percentages\n",
        "df['games_draw_percentage'] = df['general_draw']/df['general_matches_played']*100\n",
        "df[['Team', 'games_draw_percentage']].sort_values(by=['games_draw_percentage'], ascending=False).head()"
      ],
      "execution_count": 17,
      "outputs": [
        {
          "output_type": "execute_result",
          "data": {
            "text/html": [
              "<div>\n",
              "<style scoped>\n",
              "    .dataframe tbody tr th:only-of-type {\n",
              "        vertical-align: middle;\n",
              "    }\n",
              "\n",
              "    .dataframe tbody tr th {\n",
              "        vertical-align: top;\n",
              "    }\n",
              "\n",
              "    .dataframe thead th {\n",
              "        text-align: right;\n",
              "    }\n",
              "</style>\n",
              "<table border=\"1\" class=\"dataframe\">\n",
              "  <thead>\n",
              "    <tr style=\"text-align: right;\">\n",
              "      <th></th>\n",
              "      <th>Team</th>\n",
              "      <th>games_draw_percentage</th>\n",
              "    </tr>\n",
              "  </thead>\n",
              "  <tbody>\n",
              "    <tr>\n",
              "      <th>15</th>\n",
              "      <td>Southampton</td>\n",
              "      <td>31.578947</td>\n",
              "    </tr>\n",
              "    <tr>\n",
              "      <th>2</th>\n",
              "      <td>Chelsea</td>\n",
              "      <td>23.684211</td>\n",
              "    </tr>\n",
              "    <tr>\n",
              "      <th>16</th>\n",
              "      <td>Brighton</td>\n",
              "      <td>23.684211</td>\n",
              "    </tr>\n",
              "    <tr>\n",
              "      <th>5</th>\n",
              "      <td>Manchester United</td>\n",
              "      <td>23.684211</td>\n",
              "    </tr>\n",
              "    <tr>\n",
              "      <th>6</th>\n",
              "      <td>Wolverhampton</td>\n",
              "      <td>23.684211</td>\n",
              "    </tr>\n",
              "  </tbody>\n",
              "</table>\n",
              "</div>"
            ],
            "text/plain": [
              "                 Team  games_draw_percentage\n",
              "15        Southampton              31.578947\n",
              "2             Chelsea              23.684211\n",
              "16           Brighton              23.684211\n",
              "5   Manchester United              23.684211\n",
              "6       Wolverhampton              23.684211"
            ]
          },
          "metadata": {
            "tags": []
          },
          "execution_count": 17
        }
      ]
    },
    {
      "cell_type": "markdown",
      "metadata": {
        "id": "nHj0Mxp9I6-w"
      },
      "source": [
        "### 5.\tWhich team is good in the financial aspect? "
      ]
    },
    {
      "cell_type": "code",
      "metadata": {
        "colab": {
          "base_uri": "https://localhost:8080/",
          "height": 662
        },
        "id": "PdlLKEsOI6ZH",
        "outputId": "90d59649-4ed2-4fbb-ef6f-daa62a1d4b4f"
      },
      "source": [
        "# calculate team market value - tv revenue\n",
        "df['finance'] = df['finance_team_market'] - df['finance_tv_revenue']\n",
        "df[['Team', 'finance']].sort_values(by=['finance'], ascending=False)"
      ],
      "execution_count": 18,
      "outputs": [
        {
          "output_type": "execute_result",
          "data": {
            "text/html": [
              "<div>\n",
              "<style scoped>\n",
              "    .dataframe tbody tr th:only-of-type {\n",
              "        vertical-align: middle;\n",
              "    }\n",
              "\n",
              "    .dataframe tbody tr th {\n",
              "        vertical-align: top;\n",
              "    }\n",
              "\n",
              "    .dataframe thead th {\n",
              "        text-align: right;\n",
              "    }\n",
              "</style>\n",
              "<table border=\"1\" class=\"dataframe\">\n",
              "  <thead>\n",
              "    <tr style=\"text-align: right;\">\n",
              "      <th></th>\n",
              "      <th>Team</th>\n",
              "      <th>finance</th>\n",
              "    </tr>\n",
              "  </thead>\n",
              "  <tbody>\n",
              "    <tr>\n",
              "      <th>0</th>\n",
              "      <td>Manchester City</td>\n",
              "      <td>852213645</td>\n",
              "    </tr>\n",
              "    <tr>\n",
              "      <th>1</th>\n",
              "      <td>Liverpool</td>\n",
              "      <td>684014854</td>\n",
              "    </tr>\n",
              "    <tr>\n",
              "      <th>2</th>\n",
              "      <td>Chelsea</td>\n",
              "      <td>633429784</td>\n",
              "    </tr>\n",
              "    <tr>\n",
              "      <th>3</th>\n",
              "      <td>Tottenham</td>\n",
              "      <td>590009199</td>\n",
              "    </tr>\n",
              "    <tr>\n",
              "      <th>4</th>\n",
              "      <td>Arsenal</td>\n",
              "      <td>559606820</td>\n",
              "    </tr>\n",
              "    <tr>\n",
              "      <th>5</th>\n",
              "      <td>Manchester United</td>\n",
              "      <td>407927132</td>\n",
              "    </tr>\n",
              "    <tr>\n",
              "      <th>6</th>\n",
              "      <td>Wolverhampton</td>\n",
              "      <td>242434886</td>\n",
              "    </tr>\n",
              "    <tr>\n",
              "      <th>7</th>\n",
              "      <td>Everton</td>\n",
              "      <td>176756095</td>\n",
              "    </tr>\n",
              "    <tr>\n",
              "      <th>8</th>\n",
              "      <td>Leicester</td>\n",
              "      <td>160911922</td>\n",
              "    </tr>\n",
              "    <tr>\n",
              "      <th>10</th>\n",
              "      <td>Watford</td>\n",
              "      <td>115344473</td>\n",
              "    </tr>\n",
              "    <tr>\n",
              "      <th>9</th>\n",
              "      <td>West Ham</td>\n",
              "      <td>111683337</td>\n",
              "    </tr>\n",
              "    <tr>\n",
              "      <th>11</th>\n",
              "      <td>Crystal Palace</td>\n",
              "      <td>109304785</td>\n",
              "    </tr>\n",
              "    <tr>\n",
              "      <th>12</th>\n",
              "      <td>Newcastle</td>\n",
              "      <td>93929582</td>\n",
              "    </tr>\n",
              "    <tr>\n",
              "      <th>13</th>\n",
              "      <td>Bournemouth</td>\n",
              "      <td>92148027</td>\n",
              "    </tr>\n",
              "    <tr>\n",
              "      <th>14</th>\n",
              "      <td>Burnley</td>\n",
              "      <td>69099442</td>\n",
              "    </tr>\n",
              "    <tr>\n",
              "      <th>15</th>\n",
              "      <td>Southampton</td>\n",
              "      <td>55769063</td>\n",
              "    </tr>\n",
              "    <tr>\n",
              "      <th>17</th>\n",
              "      <td>Cardiff</td>\n",
              "      <td>49315893</td>\n",
              "    </tr>\n",
              "    <tr>\n",
              "      <th>16</th>\n",
              "      <td>Brighton</td>\n",
              "      <td>46938272</td>\n",
              "    </tr>\n",
              "    <tr>\n",
              "      <th>18</th>\n",
              "      <td>Fulham</td>\n",
              "      <td>5015308</td>\n",
              "    </tr>\n",
              "    <tr>\n",
              "      <th>19</th>\n",
              "      <td>Huddersfield</td>\n",
              "      <td>-11136865</td>\n",
              "    </tr>\n",
              "  </tbody>\n",
              "</table>\n",
              "</div>"
            ],
            "text/plain": [
              "                 Team    finance\n",
              "0     Manchester City  852213645\n",
              "1           Liverpool  684014854\n",
              "2             Chelsea  633429784\n",
              "3           Tottenham  590009199\n",
              "4             Arsenal  559606820\n",
              "5   Manchester United  407927132\n",
              "6       Wolverhampton  242434886\n",
              "7             Everton  176756095\n",
              "8           Leicester  160911922\n",
              "10            Watford  115344473\n",
              "9            West Ham  111683337\n",
              "11     Crystal Palace  109304785\n",
              "12          Newcastle   93929582\n",
              "13        Bournemouth   92148027\n",
              "14            Burnley   69099442\n",
              "15        Southampton   55769063\n",
              "17            Cardiff   49315893\n",
              "16           Brighton   46938272\n",
              "18             Fulham    5015308\n",
              "19       Huddersfield  -11136865"
            ]
          },
          "metadata": {
            "tags": []
          },
          "execution_count": 18
        }
      ]
    }
  ]
}